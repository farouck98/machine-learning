{
 "cells": [
  {
   "cell_type": "markdown",
   "id": "40cbc8bc-ca59-4053-ab34-7ae412e94793",
   "metadata": {},
   "source": [
    "1 Installation et chargement de NumPy"
   ]
  },
  {
   "cell_type": "code",
   "execution_count": 11,
   "id": "cf8abfef-8703-4b91-a374-9dbd0d68509b",
   "metadata": {},
   "outputs": [],
   "source": [
    "import numpy as np"
   ]
  },
  {
   "cell_type": "markdown",
   "id": "41e078ce-5096-4ebe-982a-40f25e8b04b6",
   "metadata": {},
   "source": [
    "2 Création des données avec numpy"
   ]
  },
  {
   "cell_type": "markdown",
   "id": "e0027c19-99c1-420b-9b4f-ae4ec5d0ac2a",
   "metadata": {},
   "source": [
    "2.1 Créer un numpy array avec une liste (matrice)"
   ]
  },
  {
   "cell_type": "code",
   "execution_count": 14,
   "id": "7fd615c4-34b6-4ba5-a2aa-6ad122c5516d",
   "metadata": {},
   "outputs": [
    {
     "name": "stdout",
     "output_type": "stream",
     "text": [
      "[1 2 3 4 5]\n"
     ]
    }
   ],
   "source": [
    "# Création à partir d'une liste\n",
    "liste = [1, 2, 3, 4, 5] #Définition de la liste d'élément\n",
    "array_with_list = np.array(liste)\n",
    "print(array_with_list) #affiche la liste"
   ]
  },
  {
   "cell_type": "code",
   "execution_count": 15,
   "id": "39e6746d-df9e-41e5-85c0-b370c6319f6f",
   "metadata": {},
   "outputs": [
    {
     "name": "stdout",
     "output_type": "stream",
     "text": [
      "[[1 2 3]\n",
      " [4 5 6]\n",
      " [7 8 9]]\n"
     ]
    }
   ],
   "source": [
    "# Création à partir d'une matrice\n",
    "matrice = [[1, 2, 3], [4, 5, 6], [7, 8, 9]] #Définition de la liste de matrice\n",
    "array_with_matrice = np.array(matrice)\n",
    "print(array_with_matrice)"
   ]
  },
  {
   "cell_type": "markdown",
   "id": "f3d7b7d0-03dd-43a7-bd77-b209b43a5f37",
   "metadata": {},
   "source": [
    "2.2 Créer un numpy array à partir des fonctions intégrées"
   ]
  },
  {
   "cell_type": "code",
   "execution_count": 17,
   "id": "3cb2c5a9-c77b-482c-8a6e-37a6345f1639",
   "metadata": {},
   "outputs": [
    {
     "name": "stdout",
     "output_type": "stream",
     "text": [
      "[[0. 0. 0.]\n",
      " [0. 0. 0.]\n",
      " [0. 0. 0.]]\n"
     ]
    }
   ],
   "source": [
    "#Créer un numpy array à partir de la fonction zéros\n",
    "array_zeros = np.zeros((3,3))\n",
    "print(array_zeros)"
   ]
  },
  {
   "cell_type": "code",
   "execution_count": 18,
   "id": "6a337699-7e5a-42aa-8087-ebe7d6294839",
   "metadata": {},
   "outputs": [
    {
     "name": "stdout",
     "output_type": "stream",
     "text": [
      "[[1. 1. 1.]\n",
      " [1. 1. 1.]\n",
      " [1. 1. 1.]]\n"
     ]
    }
   ],
   "source": [
    "#Créer un numpy array à partir de la fonction ones\n",
    "array_ones = np.ones((3,3))#3 lignes, 3 colonnes\n",
    "print(array_ones)"
   ]
  },
  {
   "cell_type": "code",
   "execution_count": 19,
   "id": "7c7e47c9-c852-448e-8df6-62b345e50a2b",
   "metadata": {},
   "outputs": [
    {
     "data": {
      "text/plain": [
       "array([[1., 0.],\n",
       "       [0., 1.]])"
      ]
     },
     "execution_count": 19,
     "metadata": {},
     "output_type": "execute_result"
    }
   ],
   "source": [
    "#Créer un numpy array avec la fonction eye\n",
    "array_eye = np.eye(2)#Pour créer la matrice identité\n",
    "array_eye"
   ]
  },
  {
   "cell_type": "code",
   "execution_count": 20,
   "id": "39a73944-c428-4ac7-ae7a-a1d65007782e",
   "metadata": {},
   "outputs": [
    {
     "data": {
      "text/plain": [
       "array([ 0,  2,  4,  6,  8, 10])"
      ]
     },
     "execution_count": 20,
     "metadata": {},
     "output_type": "execute_result"
    }
   ],
   "source": [
    "#Créer un numpy array avec la fonction arange: pour créer des nombres entre \n",
    "#le minimum et le maximum\n",
    "array_arange = np.arange(0, 11, 2)\n",
    "array_arange"
   ]
  },
  {
   "cell_type": "code",
   "execution_count": 21,
   "id": "dc5d5f7b-ab2f-41f4-ae70-08adbe3f7436",
   "metadata": {},
   "outputs": [
    {
     "data": {
      "text/plain": [
       "array([0.        , 0.11111111, 0.22222222, 0.33333333, 0.44444444,\n",
       "       0.55555556, 0.66666667, 0.77777778, 0.88888889, 1.        ])"
      ]
     },
     "execution_count": 21,
     "metadata": {},
     "output_type": "execute_result"
    }
   ],
   "source": [
    "#Créer un numpy array avec la fonction linspace #générer une séquence de nombres\n",
    "#entre deux valeurs données avec un nombre de points donné\n",
    "array_linspace = np.linspace(0, 1, 10)#Très utile pour les graphiques\n",
    "array_linspace"
   ]
  },
  {
   "cell_type": "code",
   "execution_count": 22,
   "id": "5d64f298-c2d9-4024-b749-34f3ff8dfe75",
   "metadata": {},
   "outputs": [
    {
     "name": "stdout",
     "output_type": "stream",
     "text": [
      "[[0.03436449 0.92496195 0.42326683]\n",
      " [0.50101746 0.47780323 0.0129114 ]\n",
      " [0.90015638 0.126421   0.05366355]\n",
      " [0.22410511 0.7792237  0.51751861]]\n"
     ]
    }
   ],
   "source": [
    "#Créer un numpy array de valeurs aléatoires avec la fonction random\n",
    "array_random = np.random.random((4,3))#Très utile pour les graphiques\n",
    "print(array_random)"
   ]
  },
  {
   "cell_type": "markdown",
   "id": "32a3ce47-cb72-41f6-9777-a5ee4f5d2137",
   "metadata": {},
   "source": [
    "3 Fonctions mathématiques et statistiques avec Numpy"
   ]
  },
  {
   "cell_type": "code",
   "execution_count": 24,
   "id": "f27c6b92-5e4f-47db-a308-b52b39972c2a",
   "metadata": {},
   "outputs": [
    {
     "data": {
      "text/plain": [
       "15"
      ]
     },
     "execution_count": 24,
     "metadata": {},
     "output_type": "execute_result"
    }
   ],
   "source": [
    "#fonctions mathématiques basiques\n",
    "array1=array_with_list\n",
    "array_sum = np.sum(array1)\n",
    "aray_mean = np.mean(array1)\n",
    "array_std = np.std(array1)\n",
    "array_min = np.min(array1)\n",
    "array_max = np.max(array1)\n",
    "array_sqrt = np.sqrt(array1)\n",
    "array_abs = np.abs(array1)\n",
    "array_power = np.power(array1, 2)\n",
    "array_exp = np.exp(array1)\n",
    "array_log = np.log(np.abs(array1))\n",
    "array_sin = np.sin(array1)\n",
    "array_median = np.median(array1)\n",
    "array_sum"
   ]
  },
  {
   "cell_type": "code",
   "execution_count": 25,
   "id": "beddbe43-2221-4c2d-9bbd-9dab2d9ad36d",
   "metadata": {},
   "outputs": [
    {
     "data": {
      "text/plain": [
       "3.0"
      ]
     },
     "execution_count": 25,
     "metadata": {},
     "output_type": "execute_result"
    }
   ],
   "source": [
    "array_median"
   ]
  },
  {
   "cell_type": "markdown",
   "id": "e303205c-a970-42da-9e28-e304c6fe8f91",
   "metadata": {},
   "source": [
    "4 Manipulation des matrices avec Numpy"
   ]
  },
  {
   "cell_type": "code",
   "execution_count": 27,
   "id": "99b2d462-6f62-44ba-a58f-ea3386378bf0",
   "metadata": {},
   "outputs": [
    {
     "name": "stdout",
     "output_type": "stream",
     "text": [
      "[[ 30  36  42]\n",
      " [ 66  81  96]\n",
      " [102 126 150]]\n"
     ]
    }
   ],
   "source": [
    "# Produit matriciel\n",
    "matrice = [[1, 2, 3], [5, 6, 7], [9, 10, 11]]\n",
    "produit_matriciel = np.dot(array_with_matrice, array_with_matrice)\n",
    "print(produit_matriciel)"
   ]
  },
  {
   "cell_type": "code",
   "execution_count": 42,
   "id": "9e5d7b65-2865-4347-acb1-dcf45525accb",
   "metadata": {},
   "outputs": [
    {
     "name": "stdout",
     "output_type": "stream",
     "text": [
      "[[1 4 7]\n",
      " [2 5 8]\n",
      " [3 6 9]]\n"
     ]
    }
   ],
   "source": [
    "# Transposée\n",
    "transposee = np.transpose(array_with_matrice)\n",
    "print(transposee)"
   ]
  },
  {
   "cell_type": "code",
   "execution_count": 44,
   "id": "efea521a-bc3b-4794-98af-94a15dc5407b",
   "metadata": {},
   "outputs": [
    {
     "name": "stdout",
     "output_type": "stream",
     "text": [
      "[[1. 0.]\n",
      " [0. 1.]]\n"
     ]
    }
   ],
   "source": [
    "# Inversion (pour les matrices carrées non singilières)\n",
    "inverse = np.linalg.inv(array_eye)\n",
    "print(inverse)\n"
   ]
  },
  {
   "cell_type": "code",
   "execution_count": 46,
   "id": "84d8d81d-17dd-4d3f-94fa-7c96ff031969",
   "metadata": {},
   "outputs": [
    {
     "name": "stdout",
     "output_type": "stream",
     "text": [
      "1.0\n"
     ]
    }
   ],
   "source": [
    "# Déterminant\n",
    "determinant = np.linalg.det(array_eye)\n",
    "print(determinant)"
   ]
  },
  {
   "cell_type": "markdown",
   "id": "c947be3f-17bf-4461-a9e9-2e7d40bf85a1",
   "metadata": {},
   "source": [
    "5 Accéder aux éléments, sélectionner, modifier et mettre à jour un numpy array"
   ]
  },
  {
   "cell_type": "code",
   "execution_count": 51,
   "id": "5b2149b7-3a24-425c-978d-3556beac216e",
   "metadata": {},
   "outputs": [
    {
     "name": "stdout",
     "output_type": "stream",
     "text": [
      "1\n"
     ]
    }
   ],
   "source": [
    "# Accès aux éléments \n",
    "array1 = np.array([1,2,3,4,5])\n",
    "premier_element = array1[0]\n",
    "print(premier_element)"
   ]
  },
  {
   "cell_type": "code",
   "execution_count": 53,
   "id": "2b5b001e-f554-4ef7-a59a-90be4505537c",
   "metadata": {},
   "outputs": [
    {
     "data": {
      "text/plain": [
       "3"
      ]
     },
     "execution_count": 53,
     "metadata": {},
     "output_type": "execute_result"
    }
   ],
   "source": [
    "array1[2]"
   ]
  },
  {
   "cell_type": "code",
   "execution_count": 55,
   "id": "14c1b0cd-ce58-46b3-8bbb-b1465d8a7888",
   "metadata": {},
   "outputs": [
    {
     "name": "stdout",
     "output_type": "stream",
     "text": [
      "[15  2  3  4  5]\n"
     ]
    }
   ],
   "source": [
    "# Modification d'un élément\n",
    "array1[0] = 15\n",
    "print(array1)"
   ]
  },
  {
   "cell_type": "code",
   "execution_count": 57,
   "id": "cce30e39-d67d-457f-b609-9cd2a78c2744",
   "metadata": {},
   "outputs": [
    {
     "data": {
      "text/plain": [
       "array([15,  4,  5])"
      ]
     },
     "execution_count": 57,
     "metadata": {},
     "output_type": "execute_result"
    }
   ],
   "source": [
    "# Séléction des éléments qui respectent une condition\n",
    "condition = array1 > 5\n",
    "elements_respectant_condition = array1[array1 > 3]\n",
    "elements_respectant_condition"
   ]
  },
  {
   "cell_type": "code",
   "execution_count": 61,
   "id": "566a7593-903a-4176-94e5-7a67e7d9416c",
   "metadata": {},
   "outputs": [
    {
     "data": {
      "text/plain": [
       "(array([0, 3, 4], dtype=int64),)"
      ]
     },
     "execution_count": 61,
     "metadata": {},
     "output_type": "execute_result"
    }
   ],
   "source": [
    "condition = array1 > 3\n",
    "condition\n",
    "indices = np.where(array1 > 3)\n",
    "indices"
   ]
  },
  {
   "cell_type": "code",
   "execution_count": 63,
   "id": "4831752a-2a24-4f3c-ab86-20346feacacc",
   "metadata": {},
   "outputs": [
    {
     "data": {
      "text/plain": [
       "array([ True, False, False, False, False])"
      ]
     },
     "execution_count": 63,
     "metadata": {},
     "output_type": "execute_result"
    }
   ],
   "source": [
    "array1 > 5"
   ]
  },
  {
   "cell_type": "code",
   "execution_count": 65,
   "id": "4327e7ce-c1f6-4539-8ab2-2230e3bcbe26",
   "metadata": {},
   "outputs": [
    {
     "name": "stdout",
     "output_type": "stream",
     "text": [
      "[15]\n"
     ]
    }
   ],
   "source": [
    "#Utilisation de np.where\n",
    "indices = np.where(array1 > 5)\n",
    "elements_respectant_condition_np_where = array1[indices]\n",
    "print(elements_respectant_condition_np_where)"
   ]
  },
  {
   "cell_type": "code",
   "execution_count": 67,
   "id": "aa0c8a6c-71e9-45ef-b179-7eb3bf994776",
   "metadata": {},
   "outputs": [
    {
     "name": "stdout",
     "output_type": "stream",
     "text": [
      "[0 2 3 0 0]\n"
     ]
    }
   ],
   "source": [
    "# Mise à jour d'un numpy array\n",
    "array1[condition] = 0\n",
    "print(array1)\n"
   ]
  },
  {
   "cell_type": "code",
   "execution_count": 69,
   "id": "8cc793f3-a20d-4b77-b07a-48b88fa42493",
   "metadata": {},
   "outputs": [
    {
     "data": {
      "text/plain": [
       "array([1, 2, 3])"
      ]
     },
     "execution_count": 69,
     "metadata": {},
     "output_type": "execute_result"
    }
   ],
   "source": [
    "# Slicing et indexation avancée\n",
    "array6 = np.array([[1, 2, 3], [4, 5, 6], [7, 8, 9]])\n",
    "# Slicing\n",
    "premiere_ligne = array6[0, :]\n",
    "premiere_ligne\n",
    "          "
   ]
  },
  {
   "cell_type": "code",
   "execution_count": 71,
   "id": "a9006e93-9108-4b6c-97dd-806f86162af7",
   "metadata": {},
   "outputs": [
    {
     "data": {
      "text/plain": [
       "array([1, 4, 7])"
      ]
     },
     "execution_count": 71,
     "metadata": {},
     "output_type": "execute_result"
    }
   ],
   "source": [
    "#Première colonne\n",
    "premiere_colonne = array6[:, 0]\n",
    "premiere_colonne"
   ]
  },
  {
   "cell_type": "code",
   "execution_count": 73,
   "id": "028a9afe-840e-4eab-bab0-f02c967141d6",
   "metadata": {},
   "outputs": [
    {
     "data": {
      "text/plain": [
       "array([[5, 6],\n",
       "       [8, 9]])"
      ]
     },
     "execution_count": 73,
     "metadata": {},
     "output_type": "execute_result"
    }
   ],
   "source": [
    "#sous matrice\n",
    "sous_matrice = array6[1:3, 1:3]\n",
    "sous_matrice"
   ]
  },
  {
   "cell_type": "code",
   "execution_count": 75,
   "id": "1e76f067-0b96-4343-8ccd-669e94bfa609",
   "metadata": {},
   "outputs": [
    {
     "data": {
      "text/plain": [
       "array([2, 6])"
      ]
     },
     "execution_count": 75,
     "metadata": {},
     "output_type": "execute_result"
    }
   ],
   "source": [
    "# Indexation avancée\n",
    "lignes = [0, 1]\n",
    "colonnes = [1, 2]\n",
    "elements_selectionnes = array6[lignes, colonnes]\n",
    "elements_selectionnes\n"
   ]
  },
  {
   "cell_type": "code",
   "execution_count": 77,
   "id": "a391bb15-b567-4b79-b24e-c097a9ad89ff",
   "metadata": {},
   "outputs": [
    {
     "data": {
      "text/plain": [
       "array([5, 7, 9])"
      ]
     },
     "execution_count": 77,
     "metadata": {},
     "output_type": "execute_result"
    }
   ],
   "source": [
    "#Opérations élémentaires et diffusion (broadcasting)\n",
    "array7 = np.array([1, 2, 3])\n",
    "array8 = np.array([4, 5, 6])\n",
    "\n",
    "#Addition élémentaire\n",
    "array_addition = array7 + array8\n",
    "array_addition"
   ]
  },
  {
   "cell_type": "code",
   "execution_count": 79,
   "id": "88205fc4-5203-4bd1-ae93-d6b185cab4ea",
   "metadata": {},
   "outputs": [
    {
     "data": {
      "text/plain": [
       "array([ 4, 10, 18])"
      ]
     },
     "execution_count": 79,
     "metadata": {},
     "output_type": "execute_result"
    }
   ],
   "source": [
    "#Multiplication élémentaire\n",
    "array_multiplication = array7 * array8\n",
    "array_multiplication"
   ]
  },
  {
   "cell_type": "code",
   "execution_count": 83,
   "id": "979edfe8-bfd7-41d3-b933-f0b3926ee842",
   "metadata": {},
   "outputs": [
    {
     "data": {
      "text/plain": [
       "array([[ 2,  4,  6],\n",
       "       [ 5,  7,  9],\n",
       "       [ 8, 10, 12]])"
      ]
     },
     "execution_count": 83,
     "metadata": {},
     "output_type": "execute_result"
    }
   ],
   "source": [
    "# Diffusion (broadcasting)\n",
    "array9 = np.array([[1, 2, 3], [4, 5, 6], [7, 8, 9]])\n",
    "array10 = np.array([1, 2, 3])\n",
    "array9 + array10"
   ]
  },
  {
   "cell_type": "markdown",
   "id": "4a43cb07-8d14-4ed1-801f-ed9006949d15",
   "metadata": {},
   "source": [
    "6 Redimensionnement, append, type de données, taille etc"
   ]
  },
  {
   "cell_type": "code",
   "execution_count": 92,
   "id": "39e5d5f8-5b18-4093-bae2-936515f54d3c",
   "metadata": {},
   "outputs": [
    {
     "name": "stdout",
     "output_type": "stream",
     "text": [
      "[[0 1 2]\n",
      " [3 4 5]\n",
      " [6 7 8]]\n"
     ]
    }
   ],
   "source": [
    "#redimensionné le numpy array\n",
    "array3 = np.arange(9)\n",
    "array3_redimensionne = array3.reshape((3, 3))\n",
    "print(array3_redimensionne)"
   ]
  },
  {
   "cell_type": "code",
   "execution_count": 94,
   "id": "30e8805b-5c91-4b50-bd80-33b49ae5c570",
   "metadata": {},
   "outputs": [
    {
     "data": {
      "text/plain": [
       "array([0, 1, 2, 3, 4, 5, 6, 7, 8])"
      ]
     },
     "execution_count": 94,
     "metadata": {},
     "output_type": "execute_result"
    }
   ],
   "source": [
    "array3 = np.arange(9)\n",
    "array3"
   ]
  },
  {
   "cell_type": "code",
   "execution_count": 100,
   "id": "8c08aeed-e025-43fc-8eb5-88377375c89c",
   "metadata": {},
   "outputs": [
    {
     "name": "stdout",
     "output_type": "stream",
     "text": [
      "[0 2 3 0 0 6 7 8]\n"
     ]
    }
   ],
   "source": [
    "#Ajouter dres éléments dans un numpy array\n",
    "array1_allonge = np.append(array1, [6, 7, 8])\n",
    "print(array1_allonge)"
   ]
  },
  {
   "cell_type": "code",
   "execution_count": 98,
   "id": "6baef26e-afb8-4dc6-8da6-57456c1c6cc2",
   "metadata": {},
   "outputs": [
    {
     "data": {
      "text/plain": [
       "(3, 3)"
      ]
     },
     "execution_count": 98,
     "metadata": {},
     "output_type": "execute_result"
    }
   ],
   "source": [
    "#Connaitre les caractéristiques d'un numpy array\n",
    "array_with_matrice.shape#dimension de l'array"
   ]
  },
  {
   "cell_type": "code",
   "execution_count": 102,
   "id": "b28dc207-e3fb-4f32-aaf9-b139af587dc0",
   "metadata": {},
   "outputs": [
    {
     "data": {
      "text/plain": [
       "numpy.ndarray"
      ]
     },
     "execution_count": 102,
     "metadata": {},
     "output_type": "execute_result"
    }
   ],
   "source": [
    "#Connaitre le type de l'objet\n",
    "type(array_with_matrice)"
   ]
  },
  {
   "cell_type": "code",
   "execution_count": 104,
   "id": "19f06d91-ac7e-4fa0-add9-581fe775d9d9",
   "metadata": {},
   "outputs": [
    {
     "data": {
      "text/plain": [
       "dtype('int32')"
      ]
     },
     "execution_count": 104,
     "metadata": {},
     "output_type": "execute_result"
    }
   ],
   "source": [
    "#Connaitre les types des éléments\n",
    "array1.dtype#type des objets"
   ]
  },
  {
   "cell_type": "code",
   "execution_count": 106,
   "id": "d3e0c8d5-827c-437b-83b4-c493b366c7ca",
   "metadata": {},
   "outputs": [
    {
     "data": {
      "text/plain": [
       "dtype('<U1')"
      ]
     },
     "execution_count": 106,
     "metadata": {},
     "output_type": "execute_result"
    }
   ],
   "source": [
    "array7 = np.array(['1', '2', '3'])\n",
    "array7.dtype"
   ]
  },
  {
   "cell_type": "code",
   "execution_count": null,
   "id": "fe8b9d70-cf29-49e9-9d60-b160fb8ff710",
   "metadata": {},
   "outputs": [],
   "source": []
  }
 ],
 "metadata": {
  "kernelspec": {
   "display_name": "Python 3 (ipykernel)",
   "language": "python",
   "name": "python3"
  },
  "language_info": {
   "codemirror_mode": {
    "name": "ipython",
    "version": 3
   },
   "file_extension": ".py",
   "mimetype": "text/x-python",
   "name": "python",
   "nbconvert_exporter": "python",
   "pygments_lexer": "ipython3",
   "version": "3.12.4"
  }
 },
 "nbformat": 4,
 "nbformat_minor": 5
}
