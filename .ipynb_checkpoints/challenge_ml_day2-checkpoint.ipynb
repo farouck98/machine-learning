{
 "cells": [
  {
   "cell_type": "markdown",
   "id": "40cbc8bc-ca59-4053-ab34-7ae412e94793",
   "metadata": {},
   "source": [
    "1 Installation et chargement de NumPy"
   ]
  },
  {
   "cell_type": "code",
   "execution_count": null,
   "id": "cf8abfef-8703-4b91-a374-9dbd0d68509b",
   "metadata": {},
   "outputs": [],
   "source": [
    "import numpy as np"
   ]
  },
  {
   "cell_type": "markdown",
   "id": "41e078ce-5096-4ebe-982a-40f25e8b04b6",
   "metadata": {},
   "source": [
    "2 Création des données avec numpy"
   ]
  },
  {
   "cell_type": "markdown",
   "id": "e0027c19-99c1-420b-9b4f-ae4ec5d0ac2a",
   "metadata": {},
   "source": [
    "2.1 Créer un numpy array avec une liste (matrice)"
   ]
  },
  {
   "cell_type": "code",
   "execution_count": 17,
   "id": "7fd615c4-34b6-4ba5-a2aa-6ad122c5516d",
   "metadata": {},
   "outputs": [
    {
     "name": "stdout",
     "output_type": "stream",
     "text": [
      "[1 2 3 4 5]\n"
     ]
    }
   ],
   "source": [
    "# Création à partir d'une liste\n",
    "liste = [1, 2, 3, 4, 5] #Définition de la liste d'élément\n",
    "array_with_list = np.array(liste)\n",
    "print(array_with_list) #affiche la liste"
   ]
  },
  {
   "cell_type": "code",
   "execution_count": 19,
   "id": "39e6746d-df9e-41e5-85c0-b370c6319f6f",
   "metadata": {},
   "outputs": [
    {
     "name": "stdout",
     "output_type": "stream",
     "text": [
      "[[1 2 3]\n",
      " [4 5 6]\n",
      " [7 8 9]]\n"
     ]
    }
   ],
   "source": [
    "# Création à partir d'une matrice\n",
    "matrice = [[1, 2, 3], [4, 5, 6], [7, 8, 9]] #Définition de la liste de matrice\n",
    "array_with_matrice = np.array(matrice)\n",
    "print(array_with_matrice)"
   ]
  },
  {
   "cell_type": "markdown",
   "id": "f3d7b7d0-03dd-43a7-bd77-b209b43a5f37",
   "metadata": {},
   "source": [
    "2.2 Créer un numpy array à partir des fonctions intégrées"
   ]
  },
  {
   "cell_type": "code",
   "execution_count": 22,
   "id": "3cb2c5a9-c77b-482c-8a6e-37a6345f1639",
   "metadata": {},
   "outputs": [
    {
     "name": "stdout",
     "output_type": "stream",
     "text": [
      "[[0. 0. 0.]\n",
      " [0. 0. 0.]\n",
      " [0. 0. 0.]]\n"
     ]
    }
   ],
   "source": [
    "#Créer un numpy array à partir de la fonction zéros\n",
    "array_zeros = np.zeros((3,3))\n",
    "print(array_zeros)"
   ]
  },
  {
   "cell_type": "code",
   "execution_count": 24,
   "id": "6a337699-7e5a-42aa-8087-ebe7d6294839",
   "metadata": {},
   "outputs": [
    {
     "name": "stdout",
     "output_type": "stream",
     "text": [
      "[[1. 1. 1.]\n",
      " [1. 1. 1.]\n",
      " [1. 1. 1.]]\n"
     ]
    }
   ],
   "source": [
    "#Créer un numpy array à partir de la fonction ones\n",
    "array_ones = np.ones((3,3))#3 lignes, 3 colonnes\n",
    "print(array_ones)"
   ]
  },
  {
   "cell_type": "code",
   "execution_count": 26,
   "id": "7c7e47c9-c852-448e-8df6-62b345e50a2b",
   "metadata": {},
   "outputs": [
    {
     "data": {
      "text/plain": [
       "array([[1., 0.],\n",
       "       [0., 1.]])"
      ]
     },
     "execution_count": 26,
     "metadata": {},
     "output_type": "execute_result"
    }
   ],
   "source": [
    "#Créer un numpy array avec la fonction eye\n",
    "array_eye = np.eye(2)#Pour créer la matrice identité\n",
    "array_eye"
   ]
  },
  {
   "cell_type": "code",
   "execution_count": 28,
   "id": "39a73944-c428-4ac7-ae7a-a1d65007782e",
   "metadata": {},
   "outputs": [
    {
     "data": {
      "text/plain": [
       "array([ 0,  2,  4,  6,  8, 10])"
      ]
     },
     "execution_count": 28,
     "metadata": {},
     "output_type": "execute_result"
    }
   ],
   "source": [
    "#Créer un numpy array avec la fonction arange: pour créer des nombres entre \n",
    "#le minimum et le maximum\n",
    "array_arange = np.arange(0, 11, 2)\n",
    "array_arange"
   ]
  },
  {
   "cell_type": "code",
   "execution_count": 30,
   "id": "dc5d5f7b-ab2f-41f4-ae70-08adbe3f7436",
   "metadata": {},
   "outputs": [
    {
     "data": {
      "text/plain": [
       "array([0.        , 0.11111111, 0.22222222, 0.33333333, 0.44444444,\n",
       "       0.55555556, 0.66666667, 0.77777778, 0.88888889, 1.        ])"
      ]
     },
     "execution_count": 30,
     "metadata": {},
     "output_type": "execute_result"
    }
   ],
   "source": [
    "#Créer un numpy array avec la fonction linspace #générer une séquence de nombres\n",
    "#entre deux valeurs données avec un nombre de points donné\n",
    "array_linspace = np.linspace(0, 1, 10)#Très utile pour les graphiques\n",
    "array_linspace"
   ]
  },
  {
   "cell_type": "code",
   "execution_count": 32,
   "id": "5d64f298-c2d9-4024-b749-34f3ff8dfe75",
   "metadata": {},
   "outputs": [
    {
     "name": "stdout",
     "output_type": "stream",
     "text": [
      "[[0.2463812  0.72264888 0.06796058]\n",
      " [0.37470302 0.25312809 0.98096019]\n",
      " [0.39269568 0.0658892  0.9962264 ]\n",
      " [0.03474564 0.34077078 0.15462924]]\n"
     ]
    }
   ],
   "source": [
    "#Créer un numpy array de valeurs aléatoires avec la fonction random\n",
    "array_random = np.random.random((4,3))#Très utile pour les graphiques\n",
    "print(array_random)"
   ]
  },
  {
   "cell_type": "markdown",
   "id": "32a3ce47-cb72-41f6-9777-a5ee4f5d2137",
   "metadata": {},
   "source": [
    "3 Fonctions mathématiques et statistiques avec Numpy"
   ]
  },
  {
   "cell_type": "code",
   "execution_count": 40,
   "id": "f27c6b92-5e4f-47db-a308-b52b39972c2a",
   "metadata": {},
   "outputs": [
    {
     "data": {
      "text/plain": [
       "15"
      ]
     },
     "execution_count": 40,
     "metadata": {},
     "output_type": "execute_result"
    }
   ],
   "source": [
    "#fonctions mathématiques basiques\n",
    "array1=array_with_list\n",
    "array_sum = np.sum(array1)\n",
    "aray_mean = np.mean(array1)\n",
    "array_std = np.std(array1)\n",
    "array_min = np.min(array1)\n",
    "array_max = np.max(array1)\n",
    "array_sqrt = np.sqrt(array1)\n",
    "array_abs = np.abs(array1)\n",
    "array_power = np.power(array1, 2)\n",
    "array_exp = np.exp(array1)\n",
    "array_log = np.log(np.abs(array1))\n",
    "array_sin = np.sin(array1)\n",
    "array_median = np.median(array1)\n",
    "array_sum"
   ]
  },
  {
   "cell_type": "code",
   "execution_count": 42,
   "id": "beddbe43-2221-4c2d-9bbd-9dab2d9ad36d",
   "metadata": {},
   "outputs": [
    {
     "data": {
      "text/plain": [
       "3.0"
      ]
     },
     "execution_count": 42,
     "metadata": {},
     "output_type": "execute_result"
    }
   ],
   "source": [
    "array_median"
   ]
  },
  {
   "cell_type": "markdown",
   "id": "e303205c-a970-42da-9e28-e304c6fe8f91",
   "metadata": {},
   "source": [
    "4 Manipulation des matrices avec Numpy"
   ]
  },
  {
   "cell_type": "code",
   "execution_count": null,
   "id": "99b2d462-6f62-44ba-a58f-ea3386378bf0",
   "metadata": {},
   "outputs": [],
   "source": [
    "# Produit matriciel\n",
    "matrice "
   ]
  }
 ],
 "metadata": {
  "kernelspec": {
   "display_name": "Python 3 (ipykernel)",
   "language": "python",
   "name": "python3"
  },
  "language_info": {
   "codemirror_mode": {
    "name": "ipython",
    "version": 3
   },
   "file_extension": ".py",
   "mimetype": "text/x-python",
   "name": "python",
   "nbconvert_exporter": "python",
   "pygments_lexer": "ipython3",
   "version": "3.12.4"
  }
 },
 "nbformat": 4,
 "nbformat_minor": 5
}
